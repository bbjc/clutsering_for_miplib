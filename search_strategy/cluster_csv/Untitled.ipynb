{
 "cells": [
  {
   "cell_type": "code",
   "execution_count": 1,
   "id": "8172093d-4376-48c3-972d-d0cf6135a83f",
   "metadata": {},
   "outputs": [],
   "source": [
    "import pandas as pd\n",
    "\n",
    "df= pd.read_csv('hc_ward_method.csv')"
   ]
  },
  {
   "cell_type": "code",
   "execution_count": 2,
   "id": "d7a6a3aa-30f5-42d0-a479-827b31f87a11",
   "metadata": {},
   "outputs": [
    {
     "data": {
      "text/html": [
       "<div>\n",
       "<style scoped>\n",
       "    .dataframe tbody tr th:only-of-type {\n",
       "        vertical-align: middle;\n",
       "    }\n",
       "\n",
       "    .dataframe tbody tr th {\n",
       "        vertical-align: top;\n",
       "    }\n",
       "\n",
       "    .dataframe thead th {\n",
       "        text-align: right;\n",
       "    }\n",
       "</style>\n",
       "<table border=\"1\" class=\"dataframe\">\n",
       "  <thead>\n",
       "    <tr style=\"text-align: right;\">\n",
       "      <th></th>\n",
       "      <th>Instance</th>\n",
       "    </tr>\n",
       "    <tr>\n",
       "      <th>cluster</th>\n",
       "      <th></th>\n",
       "    </tr>\n",
       "  </thead>\n",
       "  <tbody>\n",
       "    <tr>\n",
       "      <th>1</th>\n",
       "      <td>30</td>\n",
       "    </tr>\n",
       "    <tr>\n",
       "      <th>2</th>\n",
       "      <td>67</td>\n",
       "    </tr>\n",
       "    <tr>\n",
       "      <th>3</th>\n",
       "      <td>25</td>\n",
       "    </tr>\n",
       "    <tr>\n",
       "      <th>4</th>\n",
       "      <td>101</td>\n",
       "    </tr>\n",
       "  </tbody>\n",
       "</table>\n",
       "</div>"
      ],
      "text/plain": [
       "         Instance\n",
       "cluster          \n",
       "1              30\n",
       "2              67\n",
       "3              25\n",
       "4             101"
      ]
     },
     "execution_count": 2,
     "metadata": {},
     "output_type": "execute_result"
    }
   ],
   "source": [
    "dfgroupeb=df.groupby('cluster').count()\n",
    "dfgroupeb"
   ]
  },
  {
   "cell_type": "code",
   "execution_count": 6,
   "id": "3d67c420-3f48-441d-9f6c-e1ff39d5233d",
   "metadata": {},
   "outputs": [
    {
     "data": {
      "text/html": [
       "<div>\n",
       "<style scoped>\n",
       "    .dataframe tbody tr th:only-of-type {\n",
       "        vertical-align: middle;\n",
       "    }\n",
       "\n",
       "    .dataframe tbody tr th {\n",
       "        vertical-align: top;\n",
       "    }\n",
       "\n",
       "    .dataframe thead th {\n",
       "        text-align: right;\n",
       "    }\n",
       "</style>\n",
       "<table border=\"1\" class=\"dataframe\">\n",
       "  <thead>\n",
       "    <tr style=\"text-align: right;\">\n",
       "      <th></th>\n",
       "      <th>Instance</th>\n",
       "      <th>cluster</th>\n",
       "      <th>sans_extension</th>\n",
       "    </tr>\n",
       "  </thead>\n",
       "  <tbody>\n",
       "    <tr>\n",
       "      <th>0</th>\n",
       "      <td>30n20b8.json</td>\n",
       "      <td>4</td>\n",
       "      <td>30n20b8</td>\n",
       "    </tr>\n",
       "    <tr>\n",
       "      <th>1</th>\n",
       "      <td>50v-10.json</td>\n",
       "      <td>4</td>\n",
       "      <td>50v-10</td>\n",
       "    </tr>\n",
       "    <tr>\n",
       "      <th>2</th>\n",
       "      <td>CMS750_4.json</td>\n",
       "      <td>2</td>\n",
       "      <td>CMS750_4</td>\n",
       "    </tr>\n",
       "    <tr>\n",
       "      <th>3</th>\n",
       "      <td>academictimetablesmall.json</td>\n",
       "      <td>4</td>\n",
       "      <td>academictimetablesmall</td>\n",
       "    </tr>\n",
       "    <tr>\n",
       "      <th>4</th>\n",
       "      <td>air05.json</td>\n",
       "      <td>4</td>\n",
       "      <td>air05</td>\n",
       "    </tr>\n",
       "    <tr>\n",
       "      <th>...</th>\n",
       "      <td>...</td>\n",
       "      <td>...</td>\n",
       "      <td>...</td>\n",
       "    </tr>\n",
       "    <tr>\n",
       "      <th>218</th>\n",
       "      <td>uccase9.json</td>\n",
       "      <td>1</td>\n",
       "      <td>uccase9</td>\n",
       "    </tr>\n",
       "    <tr>\n",
       "      <th>219</th>\n",
       "      <td>uct-subprob.json</td>\n",
       "      <td>2</td>\n",
       "      <td>uct-subprob</td>\n",
       "    </tr>\n",
       "    <tr>\n",
       "      <th>220</th>\n",
       "      <td>unitcal_7.json</td>\n",
       "      <td>2</td>\n",
       "      <td>unitcal_7</td>\n",
       "    </tr>\n",
       "    <tr>\n",
       "      <th>221</th>\n",
       "      <td>var-smallemery-m6j6.json</td>\n",
       "      <td>1</td>\n",
       "      <td>var-smallemery-m6j6</td>\n",
       "    </tr>\n",
       "    <tr>\n",
       "      <th>222</th>\n",
       "      <td>wachplan.json</td>\n",
       "      <td>4</td>\n",
       "      <td>wachplan</td>\n",
       "    </tr>\n",
       "  </tbody>\n",
       "</table>\n",
       "<p>223 rows × 3 columns</p>\n",
       "</div>"
      ],
      "text/plain": [
       "                        Instance  cluster          sans_extension\n",
       "0                   30n20b8.json        4                 30n20b8\n",
       "1                    50v-10.json        4                  50v-10\n",
       "2                  CMS750_4.json        2                CMS750_4\n",
       "3    academictimetablesmall.json        4  academictimetablesmall\n",
       "4                     air05.json        4                   air05\n",
       "..                           ...      ...                     ...\n",
       "218                 uccase9.json        1                 uccase9\n",
       "219             uct-subprob.json        2             uct-subprob\n",
       "220               unitcal_7.json        2               unitcal_7\n",
       "221     var-smallemery-m6j6.json        1     var-smallemery-m6j6\n",
       "222                wachplan.json        4                wachplan\n",
       "\n",
       "[223 rows x 3 columns]"
      ]
     },
     "execution_count": 6,
     "metadata": {},
     "output_type": "execute_result"
    }
   ],
   "source": [
    "import os\n",
    "df['sans_extension'] = df['Instance'].apply(lambda x: os.path.splitext(x)[0])\n",
    "df"
   ]
  },
  {
   "cell_type": "code",
   "execution_count": 9,
   "id": "91b61888-257c-43fd-9298-113029752078",
   "metadata": {},
   "outputs": [
    {
     "name": "stdout",
     "output_type": "stream",
     "text": [
      "30n20b8\n"
     ]
    }
   ],
   "source": [
    "instance ='30n20b8.mps'\n",
    "nom_base = os.path.splitext(instance)[0]\n",
    "resultat = df[df['sans_extension'] == nom_base]\n",
    "if not resultat.empty:\n",
    "    seed= resultat.iloc[0]['cluster']\n",
    "    "
   ]
  },
  {
   "cell_type": "code",
   "execution_count": 11,
   "id": "43a7d70c-cb66-4f64-a74e-b79aef03feea",
   "metadata": {},
   "outputs": [
    {
     "data": {
      "image/png": "[encoded data removed]",
      "text/plain": [
       "<Figure size 640x480 with 1 Axes>"
      ]
     },
     "metadata": {},
     "output_type": "display_data"
    }
   ],
   "source": [
    "import matplotlib as plt\n",
    "plot = df.plot(kind='hist', title=\"Plot\")"
   ]
  },
  {
   "cell_type": "code",
   "execution_count": null,
   "id": "e3364b44-3707-4ba4-bab5-98cbbbf110cb",
   "metadata": {},
   "outputs": [],
   "source": []
  }
 ],
 "metadata": {
  "kernelspec": {
   "display_name": "Python 3 (ipykernel)",
   "language": "python",
   "name": "python3"
  },
  "language_info": {
   "codemirror_mode": {
    "name": "ipython",
    "version": 3
   },
   "file_extension": ".py",
   "mimetype": "text/x-python",
   "name": "python",
   "nbconvert_exporter": "python",
   "pygments_lexer": "ipython3",
   "version": "3.11.5"
  }
 },
 "nbformat": 4,
 "nbformat_minor": 5
}
